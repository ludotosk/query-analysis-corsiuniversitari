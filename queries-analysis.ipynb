{
 "cells": [
  {
   "cell_type": "markdown",
   "id": "020f39ce-7cb8-4799-af3c-e37b34ab0a81",
   "metadata": {},
   "source": [
    "# Research queries of corsiuniversitari.info\n",
    "\n",
    "This is a dataset of research made in the website corsiuniversitari.info, after having collected two month of data the aim of this analysis is to understand what are the most research courses in order to make new webpages in the website. The main problem is that most of the researches are not complete in the sense that usually users search part of the name of the course, like \"info\" for \"informatica\"."
   ]
  },
  {
   "cell_type": "code",
   "execution_count": 21,
   "id": "143ade6c-f1c6-41a1-b4f9-06286764b458",
   "metadata": {},
   "outputs": [],
   "source": [
    "import re\n",
    "\n",
    "import polars as pl"
   ]
  },
  {
   "cell_type": "code",
   "execution_count": 2,
   "id": "7d31730a-0ed2-44bc-9bf9-4ff4a6ef0345",
   "metadata": {},
   "outputs": [],
   "source": [
    "ds = pl.read_csv(\n",
    "    source=\"queries-sito.csv\",\n",
    "    dtypes=[pl.UInt64, pl.Utf8, pl.Utf8, pl.Datetime],\n",
    "    quote_char='\"',\n",
    ")"
   ]
  },
  {
   "cell_type": "code",
   "execution_count": 3,
   "id": "7365fe5e-631e-4115-b910-304e505f3e34",
   "metadata": {},
   "outputs": [
    {
     "data": {
      "text/html": [
       "<div><style>\n",
       ".dataframe > thead > tr > th,\n",
       ".dataframe > tbody > tr > td {\n",
       "  text-align: right;\n",
       "}\n",
       "</style>\n",
       "<small>shape: (5, 4)</small><table border=\"1\" class=\"dataframe\"><thead><tr><th>ID</th><th>query</th><th>page</th><th>time</th></tr><tr><td>u64</td><td>str</td><td>str</td><td>datetime[μs]</td></tr></thead><tbody><tr><td>12</td><td>&quot;test&quot;</td><td>&quot;corsi-di-laure…</td><td>2023-04-17 13:00:52</td></tr><tr><td>13</td><td>&quot;Test&quot;</td><td>&quot;tutti-i-corsi&quot;</td><td>2023-04-17 13:05:14</td></tr><tr><td>14</td><td>&quot;Telec&quot;</td><td>&quot;tutti-i-corsi&quot;</td><td>2023-04-17 13:08:45</td></tr><tr><td>15</td><td>&quot;Parma&quot;</td><td>&quot;lista-corsi-di…</td><td>2023-04-17 13:10:53</td></tr><tr><td>16</td><td>&quot;Pa&quot;</td><td>&quot;lista-corsi-di…</td><td>2023-04-17 13:10:59</td></tr></tbody></table></div>"
      ],
      "text/plain": [
       "shape: (5, 4)\n",
       "┌─────┬───────┬──────────────────────────────────┬─────────────────────┐\n",
       "│ ID  ┆ query ┆ page                             ┆ time                │\n",
       "│ --- ┆ ---   ┆ ---                              ┆ ---                 │\n",
       "│ u64 ┆ str   ┆ str                              ┆ datetime[μs]        │\n",
       "╞═════╪═══════╪══════════════════════════════════╪═════════════════════╡\n",
       "│ 12  ┆ test  ┆ corsi-di-laurea-in-inglese       ┆ 2023-04-17 13:00:52 │\n",
       "│ 13  ┆ Test  ┆ tutti-i-corsi                    ┆ 2023-04-17 13:05:14 │\n",
       "│ 14  ┆ Telec ┆ tutti-i-corsi                    ┆ 2023-04-17 13:08:45 │\n",
       "│ 15  ┆ Parma ┆ lista-corsi-di-laurea-senza-test ┆ 2023-04-17 13:10:53 │\n",
       "│ 16  ┆ Pa    ┆ lista-corsi-di-laurea-senza-test ┆ 2023-04-17 13:10:59 │\n",
       "└─────┴───────┴──────────────────────────────────┴─────────────────────┘"
      ]
     },
     "execution_count": 3,
     "metadata": {},
     "output_type": "execute_result"
    }
   ],
   "source": [
    "ds.head()"
   ]
  },
  {
   "cell_type": "markdown",
   "id": "1793efb4-a69e-4d63-929f-a0962a0c03cb",
   "metadata": {},
   "source": [
    "Day of the first query collected."
   ]
  },
  {
   "cell_type": "code",
   "execution_count": 4,
   "id": "8e7cb7bd-142c-46ee-8c46-ef0676e18bde",
   "metadata": {},
   "outputs": [
    {
     "data": {
      "text/html": [
       "<div><style>\n",
       ".dataframe > thead > tr > th,\n",
       ".dataframe > tbody > tr > td {\n",
       "  text-align: right;\n",
       "}\n",
       "</style>\n",
       "<small>shape: (1, 1)</small><table border=\"1\" class=\"dataframe\"><thead><tr><th>time</th></tr><tr><td>datetime[μs]</td></tr></thead><tbody><tr><td>2023-04-17 13:00:52</td></tr></tbody></table></div>"
      ],
      "text/plain": [
       "shape: (1, 1)\n",
       "┌─────────────────────┐\n",
       "│ time                │\n",
       "│ ---                 │\n",
       "│ datetime[μs]        │\n",
       "╞═════════════════════╡\n",
       "│ 2023-04-17 13:00:52 │\n",
       "└─────────────────────┘"
      ]
     },
     "execution_count": 4,
     "metadata": {},
     "output_type": "execute_result"
    }
   ],
   "source": [
    "ds.select(\"time\").min()"
   ]
  },
  {
   "cell_type": "markdown",
   "id": "3dd5b9a5-b3f9-41f4-be8b-fc30a39a9e2e",
   "metadata": {},
   "source": [
    "Day of the last query collected."
   ]
  },
  {
   "cell_type": "code",
   "execution_count": 5,
   "id": "f083c8e8-2bb1-4f4c-8c4c-5408de865995",
   "metadata": {},
   "outputs": [
    {
     "data": {
      "text/html": [
       "<div><style>\n",
       ".dataframe > thead > tr > th,\n",
       ".dataframe > tbody > tr > td {\n",
       "  text-align: right;\n",
       "}\n",
       "</style>\n",
       "<small>shape: (1, 1)</small><table border=\"1\" class=\"dataframe\"><thead><tr><th>time</th></tr><tr><td>datetime[μs]</td></tr></thead><tbody><tr><td>2023-06-22 08:09:08</td></tr></tbody></table></div>"
      ],
      "text/plain": [
       "shape: (1, 1)\n",
       "┌─────────────────────┐\n",
       "│ time                │\n",
       "│ ---                 │\n",
       "│ datetime[μs]        │\n",
       "╞═════════════════════╡\n",
       "│ 2023-06-22 08:09:08 │\n",
       "└─────────────────────┘"
      ]
     },
     "execution_count": 5,
     "metadata": {},
     "output_type": "execute_result"
    }
   ],
   "source": [
    "ds.select(\"time\").max()"
   ]
  },
  {
   "cell_type": "markdown",
   "id": "37c4f92e-96f4-4d03-a5ea-4dba88c6d408",
   "metadata": {},
   "source": [
    "Cleaning of the query in order to count them in the right way."
   ]
  },
  {
   "cell_type": "code",
   "execution_count": 6,
   "id": "f87dd3bb-0e8c-4311-856a-c2a65f31573a",
   "metadata": {},
   "outputs": [],
   "source": [
    "ds = ds.with_columns(pl.col(\"query\").apply(lambda x: x.lower()))\n",
    "ds = ds.with_columns(pl.col(\"query\").apply(lambda x: x.strip()))"
   ]
  },
  {
   "cell_type": "code",
   "execution_count": 7,
   "id": "8bc6b4eb-238a-41cf-8ae2-20ac97326239",
   "metadata": {},
   "outputs": [
    {
     "data": {
      "text/html": [
       "<div><style>\n",
       ".dataframe > thead > tr > th,\n",
       ".dataframe > tbody > tr > td {\n",
       "  text-align: right;\n",
       "}\n",
       "</style>\n",
       "<small>shape: (1_945, 2)</small><table border=\"1\" class=\"dataframe\"><thead><tr><th>query</th><th>count</th></tr><tr><td>str</td><td>u32</td></tr></thead><tbody><tr><td>&quot;economia&quot;</td><td>120</td></tr><tr><td>&quot;triennale&quot;</td><td>116</td></tr><tr><td>&quot;milano&quot;</td><td>89</td></tr><tr><td>&quot;psicologia&quot;</td><td>84</td></tr><tr><td>&quot;ingegneria&quot;</td><td>81</td></tr><tr><td>&quot;informatica&quot;</td><td>72</td></tr><tr><td>&quot;scienze&quot;</td><td>65</td></tr><tr><td>&quot;design&quot;</td><td>59</td></tr><tr><td>&quot;roma&quot;</td><td>51</td></tr><tr><td>&quot;lingue&quot;</td><td>49</td></tr><tr><td>&quot;biotecnologie&quot;</td><td>41</td></tr><tr><td>&quot;comunicazione&quot;</td><td>39</td></tr><tr><td>&hellip;</td><td>&hellip;</td></tr><tr><td>&quot;economia azien…</td><td>1</td></tr><tr><td>&quot;est&quot;</td><td>1</td></tr><tr><td>&quot;scienze e t&quot;</td><td>1</td></tr><tr><td>&quot;relazioni inte…</td><td>1</td></tr><tr><td>&quot;benessere&quot;</td><td>1</td></tr><tr><td>&quot;digitali&quot;</td><td>1</td></tr><tr><td>&quot;gior&quot;</td><td>1</td></tr><tr><td>&quot;educazio&quot;</td><td>1</td></tr><tr><td>&quot;servizi giurid…</td><td>1</td></tr><tr><td>&quot;scienze antrop…</td><td>1</td></tr><tr><td>&quot;ore&quot;</td><td>1</td></tr><tr><td>&quot;disegno e ges&quot;</td><td>1</td></tr></tbody></table></div>"
      ],
      "text/plain": [
       "shape: (1_945, 2)\n",
       "┌────────────────────────┬───────┐\n",
       "│ query                  ┆ count │\n",
       "│ ---                    ┆ ---   │\n",
       "│ str                    ┆ u32   │\n",
       "╞════════════════════════╪═══════╡\n",
       "│ economia               ┆ 120   │\n",
       "│ triennale              ┆ 116   │\n",
       "│ milano                 ┆ 89    │\n",
       "│ psicologia             ┆ 84    │\n",
       "│ …                      ┆ …     │\n",
       "│ servizi giuridici per  ┆ 1     │\n",
       "│ scienze antropologiche ┆ 1     │\n",
       "│ ore                    ┆ 1     │\n",
       "│ disegno e ges          ┆ 1     │\n",
       "└────────────────────────┴───────┘"
      ]
     },
     "execution_count": 7,
     "metadata": {},
     "output_type": "execute_result"
    }
   ],
   "source": [
    "ds.select(\"query\").groupby(\"query\", maintain_order=False).count().sort(\n",
    "    \"count\", descending=True\n",
    ")"
   ]
  },
  {
   "cell_type": "code",
   "execution_count": 8,
   "id": "039db61e-4a6c-422c-a43c-ab2b2ff02919",
   "metadata": {},
   "outputs": [],
   "source": [
    "ds = ds.with_columns(\n",
    "    [\n",
    "        pl.when(pl.col(pl.Utf8).str.lengths() == 0)\n",
    "        .then(None)\n",
    "        .otherwise(pl.col(pl.Utf8))\n",
    "        .keep_name()\n",
    "    ]\n",
    ").drop_nulls()"
   ]
  },
  {
   "cell_type": "markdown",
   "id": "077400ce-1f3c-46e5-adc9-99382a662ed0",
   "metadata": {},
   "source": [
    "Some of the names are like \"ingegneria edile\" where you have two words, let's see which is the most searched unigram."
   ]
  },
  {
   "cell_type": "code",
   "execution_count": 17,
   "id": "242284d4-0513-4618-a91a-9b0ad5ae628a",
   "metadata": {},
   "outputs": [
    {
     "data": {
      "text/html": [
       "<div><style>\n",
       ".dataframe > thead > tr > th,\n",
       ".dataframe > tbody > tr > td {\n",
       "  text-align: right;\n",
       "}\n",
       "</style>\n",
       "<small>shape: (5, 2)</small><table border=\"1\" class=\"dataframe\"><thead><tr><th>query</th><th>queryLen</th></tr><tr><td>str</td><td>i64</td></tr></thead><tbody><tr><td>&quot;test&quot;</td><td>4</td></tr><tr><td>&quot;test&quot;</td><td>4</td></tr><tr><td>&quot;telec&quot;</td><td>5</td></tr><tr><td>&quot;parma&quot;</td><td>5</td></tr><tr><td>&quot;pa&quot;</td><td>2</td></tr></tbody></table></div>"
      ],
      "text/plain": [
       "shape: (5, 2)\n",
       "┌───────┬──────────┐\n",
       "│ query ┆ queryLen │\n",
       "│ ---   ┆ ---      │\n",
       "│ str   ┆ i64      │\n",
       "╞═══════╪══════════╡\n",
       "│ test  ┆ 4        │\n",
       "│ test  ┆ 4        │\n",
       "│ telec ┆ 5        │\n",
       "│ parma ┆ 5        │\n",
       "│ pa    ┆ 2        │\n",
       "└───────┴──────────┘"
      ]
     },
     "execution_count": 17,
     "metadata": {},
     "output_type": "execute_result"
    }
   ],
   "source": [
    "query = []\n",
    "queryLen = []\n",
    "\n",
    "for i in ds.select(\"query\").iter_rows():\n",
    "    for j in i[0].split():\n",
    "        query.append(j)\n",
    "        queryLen.append(len(j))\n",
    "\n",
    "data = {\"query\": query, \"queryLen\": queryLen}\n",
    "unigram = pl.DataFrame(data)\n",
    "unigram.head()"
   ]
  },
  {
   "cell_type": "markdown",
   "id": "6acd1850-b1e8-44b5-9238-a31b71f98d5b",
   "metadata": {},
   "source": [
    "Let's see if we have some words cutted or most of them are written entirely."
   ]
  },
  {
   "cell_type": "code",
   "execution_count": 19,
   "id": "d87e441b-9b94-4509-bb55-e2af64d24af6",
   "metadata": {},
   "outputs": [
    {
     "data": {
      "text/html": [
       "<div><style>\n",
       ".dataframe > thead > tr > th,\n",
       ".dataframe > tbody > tr > td {\n",
       "  text-align: right;\n",
       "}\n",
       "</style>\n",
       "<small>shape: (1, 1)</small><table border=\"1\" class=\"dataframe\"><thead><tr><th>queryLen</th></tr><tr><td>f64</td></tr></thead><tbody><tr><td>6.851929</td></tr></tbody></table></div>"
      ],
      "text/plain": [
       "shape: (1, 1)\n",
       "┌──────────┐\n",
       "│ queryLen │\n",
       "│ ---      │\n",
       "│ f64      │\n",
       "╞══════════╡\n",
       "│ 6.851929 │\n",
       "└──────────┘"
      ]
     },
     "execution_count": 19,
     "metadata": {},
     "output_type": "execute_result"
    }
   ],
   "source": [
    "unigram.select(\"queryLen\").mean()"
   ]
  },
  {
   "cell_type": "code",
   "execution_count": 20,
   "id": "e5c812ef-6049-48e0-9358-723dfa859fb5",
   "metadata": {},
   "outputs": [
    {
     "data": {
      "text/html": [
       "<div><style>\n",
       ".dataframe > thead > tr > th,\n",
       ".dataframe > tbody > tr > td {\n",
       "  text-align: right;\n",
       "}\n",
       "</style>\n",
       "<small>shape: (1, 1)</small><table border=\"1\" class=\"dataframe\"><thead><tr><th>queryLen</th></tr><tr><td>f64</td></tr></thead><tbody><tr><td>7.0</td></tr></tbody></table></div>"
      ],
      "text/plain": [
       "shape: (1, 1)\n",
       "┌──────────┐\n",
       "│ queryLen │\n",
       "│ ---      │\n",
       "│ f64      │\n",
       "╞══════════╡\n",
       "│ 7.0      │\n",
       "└──────────┘"
      ]
     },
     "execution_count": 20,
     "metadata": {},
     "output_type": "execute_result"
    }
   ],
   "source": [
    "unigram.select(\"queryLen\").median()"
   ]
  },
  {
   "cell_type": "markdown",
   "id": "2e93d09f-b7fd-4763-8a3a-e84d050bb335",
   "metadata": {},
   "source": [
    "Scienze and ingegneria become the two most researched words."
   ]
  },
  {
   "cell_type": "code",
   "execution_count": 18,
   "id": "0fd66d7d-91eb-4120-b902-868502ac8331",
   "metadata": {},
   "outputs": [
    {
     "data": {
      "text/html": [
       "<div><style>\n",
       ".dataframe > thead > tr > th,\n",
       ".dataframe > tbody > tr > td {\n",
       "  text-align: right;\n",
       "}\n",
       "</style>\n",
       "<small>shape: (1_538, 2)</small><table border=\"1\" class=\"dataframe\"><thead><tr><th>query</th><th>count</th></tr><tr><td>str</td><td>u32</td></tr></thead><tbody><tr><td>&quot;scienze&quot;</td><td>412</td></tr><tr><td>&quot;ingegneria&quot;</td><td>243</td></tr><tr><td>&quot;e&quot;</td><td>213</td></tr><tr><td>&quot;economia&quot;</td><td>183</td></tr><tr><td>&quot;triennale&quot;</td><td>132</td></tr><tr><td>&quot;informatica&quot;</td><td>104</td></tr><tr><td>&quot;psicologia&quot;</td><td>100</td></tr><tr><td>&quot;milano&quot;</td><td>95</td></tr><tr><td>&quot;design&quot;</td><td>88</td></tr><tr><td>&quot;lingue&quot;</td><td>74</td></tr><tr><td>&quot;comunicazione&quot;</td><td>74</td></tr><tr><td>&quot;della&quot;</td><td>70</td></tr><tr><td>&hellip;</td><td>&hellip;</td></tr><tr><td>&quot;contab&quot;</td><td>1</td></tr><tr><td>&quot;giurisprudenz&quot;</td><td>1</td></tr><tr><td>&quot;decision&quot;</td><td>1</td></tr><tr><td>&quot;graph&quot;</td><td>1</td></tr><tr><td>&quot;tecnich&quot;</td><td>1</td></tr><tr><td>&quot;gr&quot;</td><td>1</td></tr><tr><td>&quot;https://eps.cd…</td><td>1</td></tr><tr><td>&quot;svi&quot;</td><td>1</td></tr><tr><td>&quot;laure&quot;</td><td>1</td></tr><tr><td>&quot;on&quot;</td><td>1</td></tr><tr><td>&quot;comer&quot;</td><td>1</td></tr><tr><td>&quot;culturale&quot;</td><td>1</td></tr></tbody></table></div>"
      ],
      "text/plain": [
       "shape: (1_538, 2)\n",
       "┌────────────┬───────┐\n",
       "│ query      ┆ count │\n",
       "│ ---        ┆ ---   │\n",
       "│ str        ┆ u32   │\n",
       "╞════════════╪═══════╡\n",
       "│ scienze    ┆ 412   │\n",
       "│ ingegneria ┆ 243   │\n",
       "│ e          ┆ 213   │\n",
       "│ economia   ┆ 183   │\n",
       "│ …          ┆ …     │\n",
       "│ laure      ┆ 1     │\n",
       "│ on         ┆ 1     │\n",
       "│ comer      ┆ 1     │\n",
       "│ culturale  ┆ 1     │\n",
       "└────────────┴───────┘"
      ]
     },
     "execution_count": 18,
     "metadata": {},
     "output_type": "execute_result"
    }
   ],
   "source": [
    "unigram.select(\"query\").groupby(\"query\", maintain_order=False).count().sort(\n",
    "    \"count\", descending=True\n",
    ")"
   ]
  },
  {
   "cell_type": "markdown",
   "id": "fc588a26-fbd1-4276-9ac5-d9e8ef0d580e",
   "metadata": {},
   "source": [
    "Now we will search which type of ingegneria, scienze and economia are the most searched. And we can notice that the sum of all the courses is high, but is very sparse between the single course. For scienze the problem is that there are politcal science which are completly different from biology. Talking about economia most of the researches are about economia, the ones related to a particular course are not so much."
   ]
  },
  {
   "cell_type": "code",
   "execution_count": 32,
   "id": "5d1267d9-05d9-47e3-bb96-c42defdc5847",
   "metadata": {},
   "outputs": [
    {
     "data": {
      "text/html": [
       "<div><style>\n",
       ".dataframe > thead > tr > th,\n",
       ".dataframe > tbody > tr > td {\n",
       "  text-align: right;\n",
       "}\n",
       "</style>\n",
       "<small>shape: (81, 2)</small><table border=\"1\" class=\"dataframe\"><thead><tr><th>query</th><th>count</th></tr><tr><td>str</td><td>u32</td></tr></thead><tbody><tr><td>&quot;ingegneria&quot;</td><td>81</td></tr><tr><td>&quot;ingegneria inf…</td><td>19</td></tr><tr><td>&quot;ingegneria ges…</td><td>14</td></tr><tr><td>&quot;ingegneria mec…</td><td>8</td></tr><tr><td>&quot;ingegneria bio…</td><td>6</td></tr><tr><td>&quot;ingegneria edi…</td><td>6</td></tr><tr><td>&quot;ingegneria aer…</td><td>5</td></tr><tr><td>&quot;ingegneria ene…</td><td>4</td></tr><tr><td>&quot;ingegneria civ…</td><td>4</td></tr><tr><td>&quot;ingegneria del…</td><td>4</td></tr><tr><td>&quot;ingegneria edi…</td><td>4</td></tr><tr><td>&quot;ingegneria inf…</td><td>3</td></tr><tr><td>&hellip;</td><td>&hellip;</td></tr><tr><td>&quot;ingegneria mec…</td><td>1</td></tr><tr><td>&quot;ingegneria sic…</td><td>1</td></tr><tr><td>&quot;ingegneria mat…</td><td>1</td></tr><tr><td>&quot;ingegneria bio…</td><td>1</td></tr><tr><td>&quot;ingegneria del…</td><td>1</td></tr><tr><td>&quot;ingegneria ind…</td><td>1</td></tr><tr><td>&quot;responsabile c…</td><td>1</td></tr><tr><td>&quot;ingegneria ter…</td><td>1</td></tr><tr><td>&quot;ingegneria amb…</td><td>1</td></tr><tr><td>&quot;ingegneria del…</td><td>1</td></tr><tr><td>&quot;ingegneria amb…</td><td>1</td></tr><tr><td>&quot;ingegneria ma&quot;</td><td>1</td></tr></tbody></table></div>"
      ],
      "text/plain": [
       "shape: (81, 2)\n",
       "┌────────────────────────┬───────┐\n",
       "│ query                  ┆ count │\n",
       "│ ---                    ┆ ---   │\n",
       "│ str                    ┆ u32   │\n",
       "╞════════════════════════╪═══════╡\n",
       "│ ingegneria             ┆ 81    │\n",
       "│ ingegneria informatica ┆ 19    │\n",
       "│ ingegneria gestionale  ┆ 14    │\n",
       "│ ingegneria meccanica   ┆ 8     │\n",
       "│ …                      ┆ …     │\n",
       "│ ingegneria ambien      ┆ 1     │\n",
       "│ ingegneria dell'autove ┆ 1     │\n",
       "│ ingegneria amb         ┆ 1     │\n",
       "│ ingegneria ma          ┆ 1     │\n",
       "└────────────────────────┴───────┘"
      ]
     },
     "execution_count": 32,
     "metadata": {},
     "output_type": "execute_result"
    }
   ],
   "source": [
    "ds.with_columns(default_match=pl.col(\"query\").str.contains(\"ingegneria\")).filter(\n",
    "    pl.col(\"default_match\")\n",
    ").select(\"query\").groupby(\"query\", maintain_order=False).count().sort(\n",
    "    \"count\", descending=True\n",
    ")"
   ]
  },
  {
   "cell_type": "code",
   "execution_count": 33,
   "id": "51681709-fe12-4c2f-b55d-40f3e4478527",
   "metadata": {},
   "outputs": [
    {
     "data": {
      "text/html": [
       "<div><style>\n",
       ".dataframe > thead > tr > th,\n",
       ".dataframe > tbody > tr > td {\n",
       "  text-align: right;\n",
       "}\n",
       "</style>\n",
       "<small>shape: (190, 2)</small><table border=\"1\" class=\"dataframe\"><thead><tr><th>query</th><th>count</th></tr><tr><td>str</td><td>u32</td></tr></thead><tbody><tr><td>&quot;scienze&quot;</td><td>65</td></tr><tr><td>&quot;scienze motori…</td><td>24</td></tr><tr><td>&quot;scienze biolog…</td><td>19</td></tr><tr><td>&quot;scienze politi…</td><td>17</td></tr><tr><td>&quot;scienze della …</td><td>9</td></tr><tr><td>&quot;scienze della&quot;</td><td>8</td></tr><tr><td>&quot;scienze dell&#x27;e…</td><td>7</td></tr><tr><td>&quot;scienze natura…</td><td>6</td></tr><tr><td>&quot;scienze biolo&quot;</td><td>5</td></tr><tr><td>&quot;scienze moto&quot;</td><td>5</td></tr><tr><td>&quot;scienze e tecn…</td><td>5</td></tr><tr><td>&quot;scienze della …</td><td>5</td></tr><tr><td>&hellip;</td><td>&hellip;</td></tr><tr><td>&quot;scienze per l&#x27;…</td><td>1</td></tr><tr><td>&quot;scienze inv&quot;</td><td>1</td></tr><tr><td>&quot;scienze in&quot;</td><td>1</td></tr><tr><td>&quot;bioscienze&quot;</td><td>1</td></tr><tr><td>&quot;scienze giurid…</td><td>1</td></tr><tr><td>&quot;scienze e tecn…</td><td>1</td></tr><tr><td>&quot;scienze della …</td><td>1</td></tr><tr><td>&quot;scienze e tecn…</td><td>1</td></tr><tr><td>&quot;scienze e tecn…</td><td>1</td></tr><tr><td>&quot;scienze biolog…</td><td>1</td></tr><tr><td>&quot;scienze inte&quot;</td><td>1</td></tr><tr><td>&quot;scienze e ling…</td><td>1</td></tr></tbody></table></div>"
      ],
      "text/plain": [
       "shape: (190, 2)\n",
       "┌───────────────────────────────────┬───────┐\n",
       "│ query                             ┆ count │\n",
       "│ ---                               ┆ ---   │\n",
       "│ str                               ┆ u32   │\n",
       "╞═══════════════════════════════════╪═══════╡\n",
       "│ scienze                           ┆ 65    │\n",
       "│ scienze motorie                   ┆ 24    │\n",
       "│ scienze biologiche                ┆ 19    │\n",
       "│ scienze politiche                 ┆ 17    │\n",
       "│ …                                 ┆ …     │\n",
       "│ scienze e tecnologie per l'ambie… ┆ 1     │\n",
       "│ scienze biologich                 ┆ 1     │\n",
       "│ scienze inte                      ┆ 1     │\n",
       "│ scienze e lingue                  ┆ 1     │\n",
       "└───────────────────────────────────┴───────┘"
      ]
     },
     "execution_count": 33,
     "metadata": {},
     "output_type": "execute_result"
    }
   ],
   "source": [
    "ds.with_columns(default_match=pl.col(\"query\").str.contains(\"scienze\")).filter(\n",
    "    pl.col(\"default_match\")\n",
    ").select(\"query\").groupby(\"query\", maintain_order=False).count().sort(\n",
    "    \"count\", descending=True\n",
    ")"
   ]
  },
  {
   "cell_type": "code",
   "execution_count": 34,
   "id": "94cc6eeb-78ce-4409-b1fa-fe2f582cc5f9",
   "metadata": {},
   "outputs": [
    {
     "data": {
      "text/html": [
       "<div><style>\n",
       ".dataframe > thead > tr > th,\n",
       ".dataframe > tbody > tr > td {\n",
       "  text-align: right;\n",
       "}\n",
       "</style>\n",
       "<small>shape: (50, 2)</small><table border=\"1\" class=\"dataframe\"><thead><tr><th>query</th><th>count</th></tr><tr><td>str</td><td>u32</td></tr></thead><tbody><tr><td>&quot;economia&quot;</td><td>120</td></tr><tr><td>&quot;economia azien…</td><td>7</td></tr><tr><td>&quot;economia e man…</td><td>6</td></tr><tr><td>&quot;economia e com…</td><td>3</td></tr><tr><td>&quot;economia dei&quot;</td><td>2</td></tr><tr><td>&quot;economia e man…</td><td>2</td></tr><tr><td>&quot;economia magis…</td><td>2</td></tr><tr><td>&quot;economia e ges…</td><td>2</td></tr><tr><td>&quot;economia azien…</td><td>1</td></tr><tr><td>&quot;economia e so&quot;</td><td>1</td></tr><tr><td>&quot;economia e fin…</td><td>1</td></tr><tr><td>&quot;economia m&quot;</td><td>1</td></tr><tr><td>&hellip;</td><td>&hellip;</td></tr><tr><td>&quot;economia soste…</td><td>1</td></tr><tr><td>&quot;economia e cu&quot;</td><td>1</td></tr><tr><td>&quot;economia e fi&quot;</td><td>1</td></tr><tr><td>&quot;economia inte&quot;</td><td>1</td></tr><tr><td>&quot;economia an&quot;</td><td>1</td></tr><tr><td>&quot;economia e ges…</td><td>1</td></tr><tr><td>&quot;economia e ma&quot;</td><td>1</td></tr><tr><td>&quot;economia p&quot;</td><td>1</td></tr><tr><td>&quot;economia teram…</td><td>1</td></tr><tr><td>&quot;economia e com…</td><td>1</td></tr><tr><td>&quot;economia tr&quot;</td><td>1</td></tr><tr><td>&quot;economia econ&quot;</td><td>1</td></tr></tbody></table></div>"
      ],
      "text/plain": [
       "shape: (50, 2)\n",
       "┌───────────────────────┬───────┐\n",
       "│ query                 ┆ count │\n",
       "│ ---                   ┆ ---   │\n",
       "│ str                   ┆ u32   │\n",
       "╞═══════════════════════╪═══════╡\n",
       "│ economia              ┆ 120   │\n",
       "│ economia aziendale    ┆ 7     │\n",
       "│ economia e management ┆ 6     │\n",
       "│ economia e commercio  ┆ 3     │\n",
       "│ …                     ┆ …     │\n",
       "│ economia teramo       ┆ 1     │\n",
       "│ economia e comm       ┆ 1     │\n",
       "│ economia tr           ┆ 1     │\n",
       "│ economia econ         ┆ 1     │\n",
       "└───────────────────────┴───────┘"
      ]
     },
     "execution_count": 34,
     "metadata": {},
     "output_type": "execute_result"
    }
   ],
   "source": [
    "ds.with_columns(default_match=pl.col(\"query\").str.contains(\"economia\")).filter(\n",
    "    pl.col(\"default_match\")\n",
    ").select(\"query\").groupby(\"query\", maintain_order=False).count().sort(\n",
    "    \"count\", descending=True\n",
    ")"
   ]
  }
 ],
 "metadata": {
  "kernelspec": {
   "display_name": "Python 3 (ipykernel)",
   "language": "python",
   "name": "python3"
  },
  "language_info": {
   "codemirror_mode": {
    "name": "ipython",
    "version": 3
   },
   "file_extension": ".py",
   "mimetype": "text/x-python",
   "name": "python",
   "nbconvert_exporter": "python",
   "pygments_lexer": "ipython3",
   "version": "3.9.12"
  }
 },
 "nbformat": 4,
 "nbformat_minor": 5
}
